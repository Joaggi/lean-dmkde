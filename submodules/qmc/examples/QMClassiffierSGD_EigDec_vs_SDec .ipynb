{
 "metadata": {
  "language_info": {
   "codemirror_mode": {
    "name": "ipython",
    "version": 3
   },
   "file_extension": ".py",
   "mimetype": "text/x-python",
   "name": "python",
   "nbconvert_exporter": "python",
   "pygments_lexer": "ipython3",
   "version": "3.8.8"
  },
  "orig_nbformat": 2,
  "kernelspec": {
   "name": "python388jvsc74a57bd06f5c4f860b8b5392c9fe536844a7572c0d9b36e44085495c747ab5a91e5f3cc1",
   "display_name": "Python 3.8.8 64-bit ('tf_x86': conda)"
  },
  "metadata": {
   "interpreter": {
    "hash": "6f5c4f860b8b5392c9fe536844a7572c0d9b36e44085495c747ab5a91e5f3cc1"
   }
  }
 },
 "nbformat": 4,
 "nbformat_minor": 2,
 "cells": [
  {
   "source": [
    "<a href=\"https://colab.research.google.com/github/fagonzalezo/qmc/blob/master/examples/QMClassiffierSGD_EigDec_vs_SDec.ipynb\" target=\"_parent\"><img src=\"https://colab.research.google.com/assets/colab-badge.svg\" alt=\"Open In Colab\"/></a>"
   ],
   "cell_type": "markdown",
   "metadata": {}
  },
  {
   "cell_type": "code",
   "execution_count": 1,
   "metadata": {},
   "outputs": [],
   "source": [
    "# Install qmc if running in Google Colab\n",
    "\n",
    "try:\n",
    "  import google.colab\n",
    "  IN_COLAB = True\n",
    "except:\n",
    "  IN_COLAB = False\n",
    "\n",
    "if IN_COLAB:\n",
    "    !pip install git+https://github.com/fagonzalezo/qmc.git\n",
    "else:\n",
    "    import sys\n",
    "    sys.path.insert(0, \"../\")"
   ]
  },
  {
   "cell_type": "code",
   "execution_count": 2,
   "metadata": {},
   "outputs": [],
   "source": [
    "from sklearn.metrics import accuracy_score\n",
    "from sklearn.datasets import make_blobs, make_moons, make_circles\n",
    "from sklearn.preprocessing import MinMaxScaler, OneHotEncoder\n",
    "from sklearn.model_selection import train_test_split\n",
    "from sklearn.datasets import load_digits\n",
    "import numpy as np\n",
    "import tensorflow as tf\n",
    "import qmc.tf.layers as layers\n",
    "import qmc.tf.models as models\n"
   ]
  },
  {
   "source": [
    "# Comparison of `QMeasureClassifEig` and `QMClassifSDecompFDMatrix`\n",
    "\n",
    "QMeasureClassifEig uses a decomposition of the rho density matrix analogous to an \n",
    "Eigen decomposition. The number of parameters is $dim_x \\times dim_y \\times n_{comp}$. QMClassifSDecompFDMatrix uses a decomposition analogous to a\n",
    "Schmidt decomposition. The number of parameters is $(dim_x + dim_y) \\times n_{comp}$. We build two models with similar number of parameters. "
   ],
   "cell_type": "markdown",
   "metadata": {}
  },
  {
   "cell_type": "code",
   "execution_count": 3,
   "metadata": {},
   "outputs": [
    {
     "output_type": "stream",
     "name": "stdout",
     "text": [
      "(1203, 64)\n(1203, 1)\n(1203, 10)\n"
     ]
    }
   ],
   "source": [
    "X,y = load_digits(return_X_y=True)\n",
    "scaler = MinMaxScaler()\n",
    "X = scaler.fit_transform(X)\n",
    "X_train, X_test, y_train, y_test = train_test_split(\n",
    "        X, y, test_size=0.33, stratify=y, random_state=42)\n",
    "\n",
    "print(X_train.shape)\n",
    "y_train = y_train[:, np.newaxis]\n",
    "y_test = y_test[:, np.newaxis]\n",
    "y_train_bin = tf.reshape (tf.keras.backend.one_hot(y_train, 10), (-1,10))\n",
    "y_test_bin = tf.reshape (tf.keras.backend.one_hot(y_test, 10), (-1,10))\n",
    "print(y_train.shape)\n",
    "print(y_train_bin.shape)"
   ]
  },
  {
   "cell_type": "code",
   "execution_count": 4,
   "metadata": {},
   "outputs": [
    {
     "output_type": "stream",
     "name": "stdout",
     "text": [
      "38/38 [==============================] - 3s 79ms/step - loss: 0.0000e+00\n",
      "0.9377104377104377\n"
     ]
    }
   ],
   "source": [
    "fm_x = layers.QFeatureMapRFF(64, dim=150, gamma=0.375, random_state=17)\n",
    "fm_y = layers.QFeatureMapOneHot(num_classes=10)\n",
    "qmc_dig = models.QMClassifier(fm_x=fm_x, fm_y=fm_y, dim_x=150, dim_y=10)\n",
    "qmc_dig.compile()\n",
    "qmc_dig.fit(X_train, y_train, epochs=1)\n",
    "out = qmc_dig.predict(X_test)\n",
    "print(accuracy_score(y_test, np.argmax(out, axis=1)))"
   ]
  },
  {
   "cell_type": "code",
   "execution_count": 5,
   "metadata": {},
   "outputs": [
    {
     "output_type": "stream",
     "name": "stdout",
     "text": [
      "Epoch 1/10\n",
      "38/38 [==============================] - 0s 1ms/step - loss: 1.3154\n",
      "Epoch 2/10\n",
      "38/38 [==============================] - 0s 1ms/step - loss: 0.3695\n",
      "Epoch 3/10\n",
      "38/38 [==============================] - 0s 1ms/step - loss: 0.2446\n",
      "Epoch 4/10\n",
      "38/38 [==============================] - 0s 1ms/step - loss: 0.1995\n",
      "Epoch 5/10\n",
      "38/38 [==============================] - 0s 1ms/step - loss: 0.1526\n",
      "Epoch 6/10\n",
      "38/38 [==============================] - 0s 1ms/step - loss: 0.1281\n",
      "Epoch 7/10\n",
      "38/38 [==============================] - 0s 2ms/step - loss: 0.1135\n",
      "Epoch 8/10\n",
      "38/38 [==============================] - 0s 1ms/step - loss: 0.0979\n",
      "Epoch 9/10\n",
      "38/38 [==============================] - 0s 2ms/step - loss: 0.0853\n",
      "Epoch 10/10\n",
      "38/38 [==============================] - 0s 2ms/step - loss: 0.0815\n",
      "0.9696969696969697\n"
     ]
    }
   ],
   "source": [
    "qmc_sgd_eig = models.QMClassifierSGD(input_dim=64, dim_x=150, dim_y=10,\n",
    "                                     num_eig=10, gamma=0.375, random_state=17)\n",
    "optimizer = tf.keras.optimizers.Adam(learning_rate=0.01)\n",
    "qmc_sgd_eig.compile(optimizer, loss=tf.keras.losses.CategoricalCrossentropy())\n",
    "qmc_sgd_eig.fit(X_train, y_train_bin, epochs=10)\n",
    "out = qmc_sgd_eig.predict(X_test)\n",
    "print(accuracy_score(y_test, np.argmax(out, axis=1)))"
   ]
  },
  {
   "cell_type": "code",
   "execution_count": 6,
   "metadata": {},
   "outputs": [
    {
     "output_type": "stream",
     "name": "stdout",
     "text": [
      "Model: \"qm_classifier_sgd\"\n_________________________________________________________________\nLayer (type)                 Output Shape              Param #   \n=================================================================\nq_feature_map_rff_1 (QFeatur multiple                  9750      \n_________________________________________________________________\nq_measure_classif_eig (QMeas multiple                  15010     \n_________________________________________________________________\ndensity_matrix2dist_1 (Densi multiple                  0         \n=================================================================\nTotal params: 24,760\nTrainable params: 24,760\nNon-trainable params: 0\n_________________________________________________________________\n"
     ]
    }
   ],
   "source": [
    "qmc_sgd_eig.summary()"
   ]
  },
  {
   "cell_type": "code",
   "execution_count": 7,
   "metadata": {},
   "outputs": [],
   "source": [
    "inputs = tf.keras.Input(shape=(64,))\n",
    "fm_x = layers.QFeatureMapRFF(64, dim=150, gamma=0.375, random_state=17)\n",
    "psi_x = fm_x(inputs)\n",
    "ones = tf.ones_like(inputs[:, 0:1])\n",
    "rho_x = tf.keras.layers.concatenate((ones, psi_x), axis=1)\n",
    "rho_x = tf.expand_dims(rho_x, axis=-1)\n",
    "qmc_sd_fdm = layers.QMClassifSDecompFDMatrix(dim_x=150, dim_y=10, n_comp=90)\n",
    "rho_y = qmc_sd_fdm(rho_x)\n",
    "y_w = rho_y[:, 0, :] # shape (b, d_in)\n",
    "y_v = rho_y[:, 1:, :] # shape (b, dim_x, d_in)\n",
    "probs = tf.einsum('...j,...ij,...ij->...i', y_w, y_v, tf.math.conj(y_v))\n",
    "qmc_sgd_sdec = tf.keras.Model(inputs=inputs, outputs=probs)"
   ]
  },
  {
   "cell_type": "code",
   "execution_count": 8,
   "metadata": {},
   "outputs": [
    {
     "output_type": "stream",
     "name": "stdout",
     "text": [
      "Epoch 1/10\n",
      "38/38 [==============================] - 1s 5ms/step - loss: 1.2970\n",
      "Epoch 2/10\n",
      "38/38 [==============================] - 0s 6ms/step - loss: 0.3042\n",
      "Epoch 3/10\n",
      "38/38 [==============================] - 0s 6ms/step - loss: 0.1593\n",
      "Epoch 4/10\n",
      "38/38 [==============================] - 0s 6ms/step - loss: 0.1174\n",
      "Epoch 5/10\n",
      "38/38 [==============================] - 0s 6ms/step - loss: 0.0939\n",
      "Epoch 6/10\n",
      "38/38 [==============================] - 0s 5ms/step - loss: 0.0789\n",
      "Epoch 7/10\n",
      "38/38 [==============================] - 0s 5ms/step - loss: 0.0698\n",
      "Epoch 8/10\n",
      "38/38 [==============================] - 0s 5ms/step - loss: 0.0643\n",
      "Epoch 9/10\n",
      "38/38 [==============================] - 0s 5ms/step - loss: 0.0565\n",
      "Epoch 10/10\n",
      "38/38 [==============================] - 0s 5ms/step - loss: 0.0527\n",
      "0.9781144781144782\n"
     ]
    }
   ],
   "source": [
    "qmc_sgd_sdec.compile(optimizer, loss=tf.keras.losses.CategoricalCrossentropy())\n",
    "qmc_sgd_sdec.fit(X_train, y_train_bin, epochs=10)\n",
    "out = qmc_sgd_sdec.predict(X_test)\n",
    "print(accuracy_score(y_test, np.argmax(out, axis=1)))"
   ]
  },
  {
   "cell_type": "code",
   "execution_count": 9,
   "metadata": {},
   "outputs": [
    {
     "output_type": "stream",
     "name": "stdout",
     "text": [
      "Model: \"model\"\n__________________________________________________________________________________________________\nLayer (type)                    Output Shape         Param #     Connected to                     \n==================================================================================================\ninput_1 (InputLayer)            [(None, 64)]         0                                            \n__________________________________________________________________________________________________\ntf.__operators__.getitem (Slici (None, 1)            0           input_1[0][0]                    \n__________________________________________________________________________________________________\ntf.ones_like (TFOpLambda)       (None, 1)            0           tf.__operators__.getitem[0][0]   \n__________________________________________________________________________________________________\nq_feature_map_rff_2 (QFeatureMa (None, 150)          9750        input_1[0][0]                    \n__________________________________________________________________________________________________\nconcatenate (Concatenate)       (None, 151)          0           tf.ones_like[0][0]               \n                                                                 q_feature_map_rff_2[0][0]        \n__________________________________________________________________________________________________\ntf.expand_dims (TFOpLambda)     (None, 151, 1)       0           concatenate[0][0]                \n__________________________________________________________________________________________________\nqm_classif_s_decomp_fd_matrix ( (None, 11, 90)       14490       tf.expand_dims[0][0]             \n__________________________________________________________________________________________________\ntf.__operators__.getitem_2 (Sli (None, 10, 90)       0           qm_classif_s_decomp_fd_matrix[0][\n__________________________________________________________________________________________________\ntf.__operators__.getitem_1 (Sli (None, 90)           0           qm_classif_s_decomp_fd_matrix[0][\n__________________________________________________________________________________________________\ntf.math.conj (TFOpLambda)       (None, 10, 90)       0           tf.__operators__.getitem_2[0][0] \n__________________________________________________________________________________________________\ntf.einsum (TFOpLambda)          (None, 10)           0           tf.__operators__.getitem_1[0][0] \n                                                                 tf.__operators__.getitem_2[0][0] \n                                                                 tf.math.conj[0][0]               \n==================================================================================================\nTotal params: 24,240\nTrainable params: 24,240\nNon-trainable params: 0\n__________________________________________________________________________________________________\n"
     ]
    }
   ],
   "source": [
    "qmc_sgd_sdec.summary()"
   ]
  },
  {
   "cell_type": "code",
   "execution_count": null,
   "metadata": {},
   "outputs": [],
   "source": []
  }
 ]
}