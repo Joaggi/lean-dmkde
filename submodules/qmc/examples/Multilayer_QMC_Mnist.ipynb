{
  "cells": [
    {
      "cell_type": "markdown",
      "metadata": {
        "colab_type": "text",
        "id": "view-in-github"
      },
      "source": [
        "<a href=\"https://colab.research.google.com/github/fagonzalezo/qmc/blob/master/examples/Multilayer_QMC_Mnist.ipynb\" target=\"_parent\"><img src=\"https://colab.research.google.com/assets/colab-badge.svg\" alt=\"Open In Colab\"/></a>"
      ]
    },
    {
      "cell_type": "code",
      "execution_count": 1,
      "metadata": {
        "colab": {
          "base_uri": "https://localhost:8080/"
        },
        "id": "dLf3P_V29LhR",
        "outputId": "3395e4f0-171d-4616-ed3a-7804162229c9"
      },
      "outputs": [],
      "source": [
        "# Install qmc if running in Google Colab\n",
        "\n",
        "try:\n",
        "  import google.colab\n",
        "  IN_COLAB = True\n",
        "except:\n",
        "  IN_COLAB = False\n",
        "\n",
        "if IN_COLAB:\n",
        "    !pip install --upgrade  git+https://github.com/fagonzalezo/qmc.git\n",
        "else:\n",
        "    import sys\n",
        "    sys.path.insert(0, \"../\")"
      ]
    },
    {
      "cell_type": "code",
      "execution_count": 3,
      "metadata": {
        "id": "kmwZ_WBj9lq_"
      },
      "outputs": [],
      "source": [
        "import tensorflow as tf\n",
        "import numpy as np\n",
        "import qmc.tf.layers as layers\n",
        "import qmc.tf.models as models"
      ]
    },
    {
      "cell_type": "code",
      "execution_count": 4,
      "metadata": {
        "colab": {
          "base_uri": "https://localhost:8080/"
        },
        "id": "PyLwyfpqxN7M",
        "outputId": "8178e742-560b-41da-fbf2-dda968d76172"
      },
      "outputs": [
        {
          "name": "stdout",
          "output_type": "stream",
          "text": [
            "shape X_train :  (60000, 784)\n",
            "shape y_train :  (60000,)\n",
            "shape X_test :  (10000, 784)\n",
            "shape y_test :  (10000,)\n"
          ]
        }
      ],
      "source": [
        "from tensorflow.keras.datasets import mnist\n",
        "from sklearn.preprocessing import MinMaxScaler, OneHotEncoder\n",
        "\n",
        "(X_train, y_train), (X_test, y_test) = mnist.load_data()\n",
        "\n",
        "X_train = X_train.reshape((60000,784))\n",
        "X_test = X_test.reshape((10000,784))\n",
        "\n",
        "X_train = X_train.astype('float32')\n",
        "X_test = X_test.astype('float32')\n",
        "\n",
        "scaler = MinMaxScaler()\n",
        "scaler.fit(X_train)\n",
        "X_train = scaler.transform(X_train)\n",
        "X_test = scaler.transform(X_test)\n",
        "\n",
        "transformer = OneHotEncoder(sparse=False)\n",
        "y_train_bin = transformer.fit_transform(y_train[:, np.newaxis])\n",
        "\n",
        "print(\"shape X_train : \", X_train.shape)\n",
        "print(\"shape y_train : \", y_train.shape)\n",
        "print(\"shape X_test : \", X_test.shape)\n",
        "print(\"shape y_test : \", y_test.shape)"
      ]
    },
    {
      "cell_type": "markdown",
      "metadata": {},
      "source": [
        "## Baseline"
      ]
    },
    {
      "cell_type": "code",
      "execution_count": 5,
      "metadata": {
        "colab": {
          "base_uri": "https://localhost:8080/"
        },
        "id": "CsNNXRvi92TV",
        "outputId": "c8a67bbc-2f1c-4857-92c8-78f1c3fc11f5"
      },
      "outputs": [
        {
          "name": "stdout",
          "output_type": "stream",
          "text": [
            "Epoch 1/10\n",
            "WARNING:tensorflow:Model was constructed with shape (None, 28, 28) for input KerasTensor(type_spec=TensorSpec(shape=(None, 28, 28), dtype=tf.float32, name='flatten_input'), name='flatten_input', description=\"created by layer 'flatten_input'\"), but it was called on an input with incompatible shape (None, 784).\n",
            "WARNING:tensorflow:Model was constructed with shape (None, 28, 28) for input KerasTensor(type_spec=TensorSpec(shape=(None, 28, 28), dtype=tf.float32, name='flatten_input'), name='flatten_input', description=\"created by layer 'flatten_input'\"), but it was called on an input with incompatible shape (None, 784).\n",
            "  1/188 [..............................] - ETA: 26s - loss: 2.4091 - categorical_accuracy: 0.0781"
          ]
        },
        {
          "name": "stderr",
          "output_type": "stream",
          "text": [
            "2021-11-17 20:35:12.092996: I tensorflow/compiler/mlir/mlir_graph_optimization_pass.cc:185] None of the MLIR Optimization Passes are enabled (registered 2)\n",
            "2021-11-17 20:35:12.095529: W tensorflow/core/platform/profile_utils/cpu_utils.cc:128] Failed to get CPU frequency: 0 Hz\n"
          ]
        },
        {
          "name": "stdout",
          "output_type": "stream",
          "text": [
            "165/188 [=========================>....] - ETA: 0s - loss: 0.5293 - categorical_accuracy: 0.8585WARNING:tensorflow:Model was constructed with shape (None, 28, 28) for input KerasTensor(type_spec=TensorSpec(shape=(None, 28, 28), dtype=tf.float32, name='flatten_input'), name='flatten_input', description=\"created by layer 'flatten_input'\"), but it was called on an input with incompatible shape (None, 784).\n",
            "188/188 [==============================] - 0s 2ms/step - loss: 0.4994 - categorical_accuracy: 0.8666 - val_loss: 0.2520 - val_categorical_accuracy: 0.9297\n",
            "Epoch 2/10\n",
            "188/188 [==============================] - 0s 2ms/step - loss: 0.2278 - categorical_accuracy: 0.9358 - val_loss: 0.1916 - val_categorical_accuracy: 0.9467\n",
            "Epoch 3/10\n",
            "188/188 [==============================] - 0s 1ms/step - loss: 0.1711 - categorical_accuracy: 0.9512 - val_loss: 0.1603 - val_categorical_accuracy: 0.9548\n",
            "Epoch 4/10\n",
            "188/188 [==============================] - 0s 1ms/step - loss: 0.1367 - categorical_accuracy: 0.9613 - val_loss: 0.1396 - val_categorical_accuracy: 0.9604\n",
            "Epoch 5/10\n",
            "188/188 [==============================] - 0s 1ms/step - loss: 0.1140 - categorical_accuracy: 0.9671 - val_loss: 0.1246 - val_categorical_accuracy: 0.9655\n",
            "Epoch 6/10\n",
            "188/188 [==============================] - 0s 1ms/step - loss: 0.0958 - categorical_accuracy: 0.9729 - val_loss: 0.1146 - val_categorical_accuracy: 0.9671\n",
            "Epoch 7/10\n",
            "188/188 [==============================] - 0s 1ms/step - loss: 0.0830 - categorical_accuracy: 0.9768 - val_loss: 0.1070 - val_categorical_accuracy: 0.9690\n",
            "Epoch 8/10\n",
            "188/188 [==============================] - 0s 1ms/step - loss: 0.0727 - categorical_accuracy: 0.9785 - val_loss: 0.1000 - val_categorical_accuracy: 0.9707\n",
            "Epoch 9/10\n",
            "188/188 [==============================] - 0s 1ms/step - loss: 0.0632 - categorical_accuracy: 0.9831 - val_loss: 0.0989 - val_categorical_accuracy: 0.9707\n",
            "Epoch 10/10\n",
            "188/188 [==============================] - 0s 1ms/step - loss: 0.0560 - categorical_accuracy: 0.9848 - val_loss: 0.0971 - val_categorical_accuracy: 0.9717\n"
          ]
        }
      ],
      "source": [
        "BATCH_SIZE = 256\n",
        "\n",
        "model = tf.keras.models.Sequential([\n",
        "tf.keras.layers.Flatten(input_shape=(28, 28)),\n",
        "tf.keras.layers.Dense(128,activation='relu'),\n",
        "tf.keras.layers.Dense(10),\n",
        "tf.keras.layers.Softmax()\n",
        "])\n",
        "model.compile(\n",
        "    optimizer=tf.keras.optimizers.Adam(0.001),\n",
        "    loss=tf.keras.losses.CategoricalCrossentropy(),\n",
        "    metrics=[tf.keras.metrics.CategoricalAccuracy()],\n",
        ")\n",
        "EPOCHS = 10\n",
        "  \n",
        "history = model.fit(X_train, y_train_bin, batch_size=BATCH_SIZE,\n",
        "                    epochs=EPOCHS, validation_split=0.2)"
      ]
    },
    {
      "cell_type": "markdown",
      "metadata": {},
      "source": [
        "## Full training"
      ]
    },
    {
      "cell_type": "code",
      "execution_count": 6,
      "metadata": {
        "colab": {
          "base_uri": "https://localhost:8080/"
        },
        "id": "TWmn69C0JKL-",
        "outputId": "8d82d510-4c0a-4515-f95a-e712fff80a62"
      },
      "outputs": [
        {
          "name": "stdout",
          "output_type": "stream",
          "text": [
            "Epoch 1/10\n",
            "188/188 [==============================] - 11s 57ms/step - loss: 0.8880 - accuracy: 0.7467 - val_loss: 0.4268 - val_accuracy: 0.8519\n",
            "Epoch 2/10\n",
            "188/188 [==============================] - 11s 58ms/step - loss: 0.3778 - accuracy: 0.8661 - val_loss: 0.3694 - val_accuracy: 0.8627\n",
            "Epoch 3/10\n",
            "188/188 [==============================] - 10s 55ms/step - loss: 0.3163 - accuracy: 0.8781 - val_loss: 0.3379 - val_accuracy: 0.8762\n",
            "Epoch 4/10\n",
            "188/188 [==============================] - 10s 55ms/step - loss: 0.2861 - accuracy: 0.8839 - val_loss: 0.3253 - val_accuracy: 0.8702\n",
            "Epoch 5/10\n",
            "188/188 [==============================] - 10s 55ms/step - loss: 0.2677 - accuracy: 0.8880 - val_loss: 0.3116 - val_accuracy: 0.8724\n",
            "Epoch 6/10\n",
            "188/188 [==============================] - 10s 55ms/step - loss: 0.2537 - accuracy: 0.8899 - val_loss: 0.3057 - val_accuracy: 0.8738\n",
            "Epoch 7/10\n",
            "188/188 [==============================] - 11s 58ms/step - loss: 0.2432 - accuracy: 0.8917 - val_loss: 0.2965 - val_accuracy: 0.8826\n",
            "Epoch 8/10\n",
            "188/188 [==============================] - 11s 57ms/step - loss: 0.2341 - accuracy: 0.8952 - val_loss: 0.2940 - val_accuracy: 0.8759\n",
            "Epoch 9/10\n",
            "188/188 [==============================] - 10s 55ms/step - loss: 0.2269 - accuracy: 0.8957 - val_loss: 0.2901 - val_accuracy: 0.8751\n",
            "Epoch 10/10\n",
            "188/188 [==============================] - 10s 55ms/step - loss: 0.2205 - accuracy: 0.8952 - val_loss: 0.2868 - val_accuracy: 0.8759\n"
          ]
        }
      ],
      "source": [
        "BATCH_SIZE = 256\n",
        "input_dim = 784\n",
        "num_rff = 512\n",
        "gamma = 2**-5\n",
        "n_comp = 80\n",
        "random_state = 0\n",
        "dim_h = 30\n",
        "\n",
        "inputs = tf.keras.Input(shape=(784,))\n",
        "fm_x1 = layers.QFeatureMapRFF(784, dim=num_rff , gamma=gamma, random_state=random_state)\n",
        "psi_x = fm_x1(inputs)\n",
        "ones = tf.ones_like(inputs[:, 0:1])\n",
        "rho_x = tf.keras.layers.concatenate((ones, psi_x), axis=1)\n",
        "rho_x = tf.expand_dims(rho_x, axis=-1)\n",
        "qmdmc1 = layers.QMClassifSDecompFDMatrix(dim_x=num_rff, dim_y=dim_h, n_comp=n_comp)\n",
        "rho_h = qmdmc1(rho_x)\n",
        "qmdmc2 = layers.QMClassifSDecompFDMatrix(dim_x=dim_h, dim_y=10, n_comp=n_comp)\n",
        "rho_y = qmdmc2(rho_h)\n",
        "y_w = rho_y[:, 0, :] # shape (b, d_in)\n",
        "y_v = rho_y[:, 1:, :] # shape (b, dim_x, d_in)\n",
        "probs = tf.einsum('...j,...ij,...ij->...i', y_w, y_v, tf.math.conj(y_v))\n",
        "qmdmclf2 = tf.keras.Model(inputs=inputs, outputs=probs)\n",
        "opt = tf.keras.optimizers.Adam(learning_rate=0.001)\n",
        "qmdmclf2.compile(loss=tf.keras.losses.CategoricalCrossentropy(), optimizer=opt, metrics=['accuracy'])\n",
        "\n",
        "# fm_x1.trainable = False\n",
        "\n",
        "EPOCHS = 10\n",
        "  \n",
        "history = qmdmclf2.fit(X_train, y_train_bin, batch_size=BATCH_SIZE,\n",
        "                    epochs=EPOCHS, validation_split=0.2)"
      ]
    },
    {
      "cell_type": "markdown",
      "metadata": {},
      "source": [
        "## Layerwise training"
      ]
    },
    {
      "cell_type": "code",
      "execution_count": 7,
      "metadata": {
        "colab": {
          "base_uri": "https://localhost:8080/"
        },
        "id": "oOte8WRc999W",
        "outputId": "68e2a6cd-a94c-43bd-daf8-a12849f616d6"
      },
      "outputs": [
        {
          "name": "stdout",
          "output_type": "stream",
          "text": [
            "Epoch 1/10\n",
            "188/188 [==============================] - 6s 28ms/step - loss: 1.1941 - accuracy: 0.6811 - val_loss: 0.6002 - val_accuracy: 0.8792\n",
            "Epoch 2/10\n",
            "188/188 [==============================] - 5s 28ms/step - loss: 0.5244 - accuracy: 0.9001 - val_loss: 0.4403 - val_accuracy: 0.9187\n",
            "Epoch 3/10\n",
            "188/188 [==============================] - 5s 28ms/step - loss: 0.4038 - accuracy: 0.9283 - val_loss: 0.3787 - val_accuracy: 0.9331\n",
            "Epoch 4/10\n",
            "188/188 [==============================] - 5s 28ms/step - loss: 0.3447 - accuracy: 0.9400 - val_loss: 0.3474 - val_accuracy: 0.9408\n",
            "Epoch 5/10\n",
            "188/188 [==============================] - 5s 28ms/step - loss: 0.3063 - accuracy: 0.9488 - val_loss: 0.3197 - val_accuracy: 0.9457\n",
            "Epoch 6/10\n",
            "188/188 [==============================] - 5s 28ms/step - loss: 0.2795 - accuracy: 0.9547 - val_loss: 0.3000 - val_accuracy: 0.9497\n",
            "Epoch 7/10\n",
            "188/188 [==============================] - 5s 28ms/step - loss: 0.2581 - accuracy: 0.9588 - val_loss: 0.2853 - val_accuracy: 0.9512\n",
            "Epoch 8/10\n",
            "188/188 [==============================] - 5s 28ms/step - loss: 0.2413 - accuracy: 0.9628 - val_loss: 0.2744 - val_accuracy: 0.9532\n",
            "Epoch 9/10\n",
            "188/188 [==============================] - 5s 28ms/step - loss: 0.2272 - accuracy: 0.9651 - val_loss: 0.2635 - val_accuracy: 0.9548\n",
            "Epoch 10/10\n",
            "188/188 [==============================] - 5s 28ms/step - loss: 0.2163 - accuracy: 0.9673 - val_loss: 0.2560 - val_accuracy: 0.9568\n"
          ]
        }
      ],
      "source": [
        "BATCH_SIZE = 256\n",
        "input_dim = 784\n",
        "component_dim = 128\n",
        "gamma = 2**-5\n",
        "n_comp = 80\n",
        "random_state = 0\n",
        "\n",
        "inputs = tf.keras.Input(shape=(784,))\n",
        "fm_x = layers.QFeatureMapRFF(784, dim=component_dim , gamma=gamma, random_state=random_state)\n",
        "psi_x = fm_x(inputs)\n",
        "ones = tf.ones_like(inputs[:, 0:1])\n",
        "rho_x = tf.keras.layers.concatenate((ones, psi_x), axis=1)\n",
        "rho_x = tf.expand_dims(rho_x, axis=-1)\n",
        "#qmdmc = layers.QMeasureDMClassifEig(dim_x=component_dim , dim_y=10, eig_out=num_eig, num_eig=num_eig)\n",
        "qmdmc = layers.QMClassifSDecompFDMatrix(dim_x=component_dim, dim_y=10, n_comp=n_comp)\n",
        "rho_y = qmdmc(rho_x)\n",
        "y_w = rho_y[:, 0, :] # shape (b, d_in)\n",
        "y_v = rho_y[:, 1:, :] # shape (b, dim_x, d_in)\n",
        "probs = tf.einsum('...j,...ij,...ij->...i', y_w, y_v, tf.math.conj(y_v))\n",
        "qmdmclf = tf.keras.Model(inputs=inputs, outputs=probs)\n",
        "opt = tf.keras.optimizers.Adam(learning_rate=0.001)\n",
        "qmdmclf.compile(loss=tf.keras.losses.CategoricalCrossentropy(), optimizer=opt, metrics=['accuracy'])\n",
        "\n",
        "EPOCHS = 10\n",
        "  \n",
        "history = qmdmclf.fit(X_train, y_train_bin, batch_size=BATCH_SIZE,\n",
        "                    epochs=EPOCHS, validation_split=0.2)"
      ]
    },
    {
      "cell_type": "code",
      "execution_count": 8,
      "metadata": {
        "colab": {
          "base_uri": "https://localhost:8080/"
        },
        "id": "vrZ2k0KLHxus",
        "outputId": "04074a5e-daed-405a-b18c-dec6652fe284"
      },
      "outputs": [
        {
          "name": "stdout",
          "output_type": "stream",
          "text": [
            "Epoch 1/5\n",
            "188/188 [==============================] - 8s 39ms/step - loss: 0.6435 - accuracy: 0.9405 - val_loss: 0.2556 - val_accuracy: 0.9588\n",
            "Epoch 2/5\n",
            "188/188 [==============================] - 7s 39ms/step - loss: 0.2053 - accuracy: 0.9719 - val_loss: 0.2419 - val_accuracy: 0.9595\n",
            "Epoch 3/5\n",
            "188/188 [==============================] - 7s 39ms/step - loss: 0.1909 - accuracy: 0.9736 - val_loss: 0.2371 - val_accuracy: 0.9608\n",
            "Epoch 4/5\n",
            "188/188 [==============================] - 7s 40ms/step - loss: 0.1831 - accuracy: 0.9756 - val_loss: 0.2312 - val_accuracy: 0.9615\n",
            "Epoch 5/5\n",
            "188/188 [==============================] - 7s 39ms/step - loss: 0.1751 - accuracy: 0.9771 - val_loss: 0.2235 - val_accuracy: 0.9632\n"
          ]
        }
      ],
      "source": [
        "inputs = tf.keras.Input(shape=(784,))\n",
        "fm_x1 = layers.QFeatureMapRFF(784, dim=component_dim , gamma=gamma, random_state=random_state)\n",
        "psi_x = fm_x1(inputs)\n",
        "ones = tf.ones_like(inputs[:, 0:1])\n",
        "rho_x = tf.keras.layers.concatenate((ones, psi_x), axis=1)\n",
        "rho_x = tf.expand_dims(rho_x, axis=-1)\n",
        "qmdmc1 = layers.QMClassifSDecompFDMatrix(dim_x=component_dim, dim_y=10, n_comp=n_comp)\n",
        "rho_h = qmdmc1(rho_x)\n",
        "qmdmc2 = layers.QMClassifSDecompFDMatrix(dim_x=10, dim_y=10, n_comp=n_comp)\n",
        "rho_y = qmdmc2(rho_h)\n",
        "y_w = rho_y[:, 0, :] # shape (b, d_in)\n",
        "y_v = rho_y[:, 1:, :] # shape (b, dim_x, d_in)\n",
        "probs = tf.einsum('...j,...ij,...ij->...i', y_w, y_v, tf.math.conj(y_v))\n",
        "qmdmclf2 = tf.keras.Model(inputs=inputs, outputs=probs)\n",
        "opt = tf.keras.optimizers.Adam(learning_rate=0.001)\n",
        "qmdmclf2.compile(loss=tf.keras.losses.CategoricalCrossentropy(), optimizer=opt, metrics=['accuracy'])\n",
        "\n",
        "# We freeze the weights of the first layer and train the second\n",
        "fm_x1.set_weights(fm_x.get_weights())\n",
        "fm_x1.trainable = False\n",
        "qmdmc1.set_weights(qmdmc.get_weights())\n",
        "qmdmc1.trainable = False\n",
        "EPOCHS = 5\n",
        "  \n",
        "history = qmdmclf2.fit(X_train, y_train_bin, batch_size=BATCH_SIZE,\n",
        "                    epochs=EPOCHS, validation_split=0.2)"
      ]
    },
    {
      "cell_type": "code",
      "execution_count": 9,
      "metadata": {},
      "outputs": [
        {
          "name": "stdout",
          "output_type": "stream",
          "text": [
            "Epoch 1/10\n",
            "188/188 [==============================] - 7s 39ms/step - loss: 0.1688 - accuracy: 0.9778 - val_loss: 0.2217 - val_accuracy: 0.9625\n",
            "Epoch 2/10\n",
            "188/188 [==============================] - 7s 40ms/step - loss: 0.1631 - accuracy: 0.9788 - val_loss: 0.2171 - val_accuracy: 0.9635\n",
            "Epoch 3/10\n",
            "188/188 [==============================] - 7s 39ms/step - loss: 0.1582 - accuracy: 0.9799 - val_loss: 0.2135 - val_accuracy: 0.9633\n",
            "Epoch 4/10\n",
            "188/188 [==============================] - 7s 39ms/step - loss: 0.1538 - accuracy: 0.9811 - val_loss: 0.2110 - val_accuracy: 0.9641\n",
            "Epoch 5/10\n",
            "188/188 [==============================] - 8s 41ms/step - loss: 0.1496 - accuracy: 0.9819 - val_loss: 0.2086 - val_accuracy: 0.9640\n",
            "Epoch 6/10\n",
            "188/188 [==============================] - 7s 39ms/step - loss: 0.1458 - accuracy: 0.9825 - val_loss: 0.2040 - val_accuracy: 0.9661\n",
            "Epoch 7/10\n",
            "188/188 [==============================] - 7s 39ms/step - loss: 0.1422 - accuracy: 0.9833 - val_loss: 0.2058 - val_accuracy: 0.9647\n",
            "Epoch 8/10\n",
            "188/188 [==============================] - 7s 39ms/step - loss: 0.1406 - accuracy: 0.9839 - val_loss: 0.2038 - val_accuracy: 0.9657\n",
            "Epoch 9/10\n",
            "188/188 [==============================] - 7s 39ms/step - loss: 0.1358 - accuracy: 0.9843 - val_loss: 0.1996 - val_accuracy: 0.9656\n",
            "Epoch 10/10\n",
            "188/188 [==============================] - 7s 39ms/step - loss: 0.1331 - accuracy: 0.9849 - val_loss: 0.1981 - val_accuracy: 0.9657\n"
          ]
        }
      ],
      "source": [
        "# We free all the weights and fine tune\n",
        "\n",
        "fm_x1.trainable = True\n",
        "qmdmc1.trainable = True\n",
        "EPOCHS = 10\n",
        "history = qmdmclf2.fit(X_train, y_train_bin, batch_size=BATCH_SIZE,\n",
        "                    epochs=EPOCHS, validation_split=0.2)"
      ]
    },
    {
      "cell_type": "code",
      "execution_count": null,
      "metadata": {
        "id": "diEm3hzi31v1"
      },
      "outputs": [],
      "source": []
    }
  ],
  "metadata": {
    "accelerator": "GPU",
    "colab": {
      "include_colab_link": true,
      "name": "GPU-QM-DM-mnist.ipynb",
      "provenance": []
    },
    "interpreter": {
      "hash": "779d4c84c7f4c6618e200381a88d1ae2ad69efab2427301154490f9fb13eb4b6"
    },
    "kernelspec": {
      "display_name": "Python 3.8.8 64-bit ('tf_x86': conda)",
      "language": "python",
      "name": "python3"
    },
    "language_info": {
      "codemirror_mode": {
        "name": "ipython",
        "version": 3
      },
      "file_extension": ".py",
      "mimetype": "text/x-python",
      "name": "python",
      "nbconvert_exporter": "python",
      "pygments_lexer": "ipython3",
      "version": "3.9.7"
    },
    "metadata": {
      "interpreter": {
        "hash": "6f5c4f860b8b5392c9fe536844a7572c0d9b36e44085495c747ab5a91e5f3cc1"
      }
    },
    "orig_nbformat": 2
  },
  "nbformat": 4,
  "nbformat_minor": 0
}
